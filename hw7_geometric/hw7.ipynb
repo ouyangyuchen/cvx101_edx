{
 "cells": [
  {
   "cell_type": "markdown",
   "id": "c4a6b098",
   "metadata": {},
   "source": [
    "# Homework7 Geometric Problems"
   ]
  },
  {
   "cell_type": "code",
   "execution_count": 1,
   "id": "2716c5ee",
   "metadata": {},
   "outputs": [],
   "source": [
    "import numpy as np\n",
    "import cvxpy as cp\n",
    "from scipy.io import loadmat\n",
    "from matplotlib import pyplot as plt"
   ]
  },
  {
   "cell_type": "markdown",
   "id": "180e2893",
   "metadata": {},
   "source": [
    "## Three-way linear classification\n",
    "Given three sets of data $x^{(1)}, x^{(2)}, \\ldots, x^{(N)}$, $y^{(1)}, y^{(2)}, \\ldots, y^{(M)}$, $z^{(1)}, z^{(2)}, \\ldots, z^{(P)}$, \n",
    "find 3 affine function $f_i(x) = a_i^Tx - b_i (i = 1,2,3)$  \n",
    "that satisfy the properties:  \n",
    "for any $j$\n",
    "1. $f_1(x^{(j)}) > max\\{f_2(x^{(j)}), f_3(x^{(j)})\\}$\n",
    "2. $f_2(y^{(j)}) > max\\{f_1(y^{(j)}), f_3(y^{(j)})\\}$\n",
    "3. $f_3(z^{(j)}) > max\\{f_1(z^{(j)}), f_2(z^{(j)})\\}$"
   ]
  },
  {
   "cell_type": "code",
   "execution_count": 2,
   "id": "e00f895e",
   "metadata": {},
   "outputs": [],
   "source": [
    "# load data from MATLAB file\n",
    "\n",
    "# attributes: M, N, P, X, Y, Z\n",
    "data = loadmat(\"sep3way_data.mat\")\n",
    "M, N, P = data['M'][0, 0], data['N'][0, 0], data['P'][0, 0]  # 20\n",
    "X = data['X']  # (2, 20)\n",
    "Y = data['Y']  # (2, 20)\n",
    "Z = data['Z']  # (2, 20)"
   ]
  },
  {
   "cell_type": "markdown",
   "id": "1c8d22f2",
   "metadata": {},
   "source": [
    "### Remove strict inequalities\n",
    "We can always scale $a_i$ and $b_i$ to satisfy:  \n",
    "for any $j$\n",
    "1. $f_1(x^{(j)}) \\geq max\\{f_2(x^{(j)}), f_3(x^{(j)})\\} + 1$\n",
    "2. $f_2(y^{(j)}) \\geq max\\{f_1(y^{(j)}), f_3(y^{(j)})\\} + 1$\n",
    "3. $f_3(z^{(j)}) \\geq max\\{f_1(z^{(j)}), f_2(z^{(j)})\\} + 1$"
   ]
  },
  {
   "cell_type": "code",
   "execution_count": 3,
   "id": "2e8f7e47",
   "metadata": {},
   "outputs": [
    {
     "name": "stdout",
     "output_type": "stream",
     "text": [
      "optimal\n",
      "a1 = [3.22246572 1.8266569 ], \ta2 = [-2.26303503  2.09928835], \ta3 = [-1.075752  -3.5710991]\n",
      "b2 = 4.4768, \tb2 = -0.7290, \tb3 = 6.6987\n"
     ]
    }
   ],
   "source": [
    "a1, a2, a3 = cp.Variable(2), cp.Variable(2), cp.Variable(2)\n",
    "b1, b2, b3 = cp.Variable(1), cp.Variable(1), cp.Variable(1)\n",
    "\n",
    "# f1(x) = a1.T * x + b1, f1(x) > f1(y), f1(x) > f1(z)\n",
    "cst = [a1 @ X - b1 - 1 >= cp.maximum(a2 @ X - b2, a3 @ X - b3),\n",
    "       a2 @ Y - b2 - 1 >= cp.maximum(a1 @ Y - b1, a3 @ Y - b3),\n",
    "       a3 @ Z - b3 - 1 >= cp.maximum(a1 @ Z - b1, a2 @ Z - b2)]\n",
    "\n",
    "obj = cp.Minimize(0)\n",
    "prob = cp.Problem(objective=obj, constraints=cst)\n",
    "prob.solve()\n",
    "# optimal -> all classified, infeasible -> partly misclassified\n",
    "print(prob.status)\n",
    "\n",
    "a1, a2, a3 = a1.value, a2.value, a3.value\n",
    "b1, b2, b3 = b1.value, b2.value, b3.value\n",
    "print(\"a1 = %s, \\ta2 = %s, \\ta3 = %s\" % (a1, a2, a3))\n",
    "print(\"b2 = %.4f, \\tb2 = %.4f, \\tb3 = %.4f\" % (b1, b2, b3))"
   ]
  },
  {
   "cell_type": "markdown",
   "id": "b314116d",
   "metadata": {},
   "source": [
    "### plot points and separating hyperplanes"
   ]
  },
  {
   "cell_type": "code",
   "execution_count": 4,
   "id": "13186a32",
   "metadata": {},
   "outputs": [
    {
     "data": {
      "image/png": "[encoded data removed]",
      "text/plain": [
       "<Figure size 640x480 with 1 Axes>"
      ]
     },
     "metadata": {},
     "output_type": "display_data"
    }
   ],
   "source": [
    "u1, v1 = a1 - a2, b1 - b2\n",
    "u2, v2 = a2 - a3, b2 - b3\n",
    "u3, v3 = a3 - a1, b3 - b1\n",
    "t = np.linspace(-7 ,7, 1400)\n",
    "line1 = (-u1[0]*t + v1)/u1[1]\n",
    "idx1 = np.where(u2 @ np.array([t, line1]) - v2 > 0)\n",
    "line2 = (-u2[0]*t + v2)/u2[1]\n",
    "idx2 = np.where(u3 @ np.array([t, line2]) - v3 > 0)\n",
    "line3 = (-u3[0]*t + v3)/u3[1]\n",
    "idx3 = np.where(u1 @ np.array([t, line3]) - v1 > 0)\n",
    "\n",
    "plt.xlim((-7, 7))\n",
    "plt.ylim((-7, 7))\n",
    "plt.plot(t[idx1], line1[idx1], t[idx2], line2[idx2], t[idx3], line3[idx3])\n",
    "plt.scatter(X[0, :], X[1, :], 20, label='X')\n",
    "plt.scatter(Y[0, :], Y[1, :], 20, c='r', marker='x', label='Y')\n",
    "plt.scatter(Z[0, :], Z[1, :], 20, c='g', marker='+', label='Z')\n",
    "plt.legend()\n",
    "plt.show()\n",
    "plt.close()"
   ]
  },
  {
   "cell_type": "markdown",
   "id": "c50c57e1",
   "metadata": {},
   "source": [
    "## Fitting sphere to data\n",
    "Fit a sphere $\\{x \\in \\textbf{R}^n | \\|x-x_c\\|_2 \\leq r\\}$ to $m$ points, $u_1,u_2,\\ldots,u_m \\in \\textbf{R}^n$,  \n",
    "which minimize\n",
    "$$\\sum_{i=1}^m(\\|u_i-x_c\\|_2^2 - r^2)^2$$\n",
    "\n",
    "Define variable $x=(x_c,t)$, $A=[U, \\textbf{1}]$, $b=(\\|u_1\\|_2^2, \\|u_2\\|_2^2, \\ldots, \\|u_m\\|_2^2)$. ($t=r^2 - \\|x_c\\|_2^2$)  \n",
    "The problem is converted into LS problem:\n",
    "$$\\text{minimize }\\quad \\|Ax-b\\|_2^2$$\n",
    "$$\\text{subject to } \\quad t \\leq \\|x_c\\|_2^2$$\n",
    "\n",
    "According to [solution](https://courses.edx.org/assets/courseware/v1/0e2d73c4bdf11d323bf2f8c954b3e4c4/asset-v1:StanfordOnline+SOE-YCVX0001+1T2020+type@asset+block/hw6sol.pdf), the optimal condition $A^T(Ax-b)=0$ guarantees the inequality constraint. Therefore, we can just solve the unconstrained LS problem."
   ]
  },
  {
   "cell_type": "code",
   "execution_count": 5,
   "id": "231c77e2",
   "metadata": {},
   "outputs": [
    {
     "name": "stdout",
     "output_type": "stream",
     "text": [
      "(50, 1)\n",
      "\n",
      "Check whether (t + |x_c|^2 == r^2 >= 0)?\n",
      "---------------\n",
      "No problem! MSE is 0.557\n",
      "r = 1.305\n",
      "---------------\n"
     ]
    }
   ],
   "source": [
    "U = loadmat(\"sphere_fitting_data.mat\")['U']     # 2x50\n",
    "n = U.shape[1]\n",
    "\n",
    "x = cp.Variable((3, 1))\n",
    "A = np.concatenate((2 * U.T, np.ones((n, 1))), axis=1)\n",
    "b = np.sum(np.square(U.T), axis=1).reshape((n, 1))\n",
    "print(b.shape)\n",
    "\n",
    "obj = cp.Minimize(cp.sum_squares(A @ x - b))\n",
    "prob = cp.Problem(obj, [])\n",
    "prob.solve()\n",
    "\n",
    "print(\"\\nCheck whether (t + |x_c|^2 == r^2 >= 0)?\")\n",
    "print(\"---------------\")\n",
    "x_c, t = x.value[:-1], x.value[-1]\n",
    "r2 = t + x_c.T @ x_c\n",
    "if r2 >= 0:\n",
    "    print(\"No problem! MSE is %.3f\" % prob.value)\n",
    "    print(\"r = %.3f\" % np.sqrt(r2))\n",
    "else:\n",
    "    print(\"Oops! The direct method is infeasible.\")\n",
    "print(\"---------------\")"
   ]
  },
  {
   "cell_type": "code",
   "execution_count": 6,
   "id": "3da2e941",
   "metadata": {},
   "outputs": [
    {
     "data": {
      "image/png": "[encoded data removed]",
      "text/plain": [
       "<Figure size 640x480 with 1 Axes>"
      ]
     },
     "metadata": {},
     "output_type": "display_data"
    }
   ],
   "source": [
    "# plot the circle\n",
    "plt.axes().set_aspect('equal')\n",
    "plt.scatter(U[0, :], U[1, :], marker='o')\n",
    "plt.scatter([x_c[0]], [[x_c[1]]], marker='x', color='g')\n",
    "points = np.zeros((1000, 2))\n",
    "for i, theta in enumerate(np.linspace(0, 2 * np.pi, 1000)):\n",
    "    points[i] = x_c.reshape((2, )) + np.sqrt(r2) * np.array([np.cos(theta), np.sin(theta)])\n",
    "plt.plot(points[:, 0], points[:, 1], 'r')\n",
    "plt.show()"
   ]
  },
  {
   "cell_type": "markdown",
   "id": "ed7e0a03",
   "metadata": {},
   "source": [
    "## Learning a quadratic pseudo-metric from distance measurements\n",
    "$$\\text{minimize } \\frac{1}{N}\\sum_{i=1}^{N}d_i^2-2d_i((x_i-y_i)^TP(x_i-y_i))^{\\frac{1}{2}} + (x_i-y_i)^TP(x_i-y_i)$$\n",
    "$$\\text{subject to } P \\succeq 0 $$"
   ]
  },
  {
   "cell_type": "code",
   "execution_count": 7,
   "id": "4c8651ce",
   "metadata": {},
   "outputs": [],
   "source": [
    "data = loadmat(\"quad_metric_data.mat\")\n",
    "d, d_test = data['d'], data['d_test']\n",
    "n, N, N_test = data['n'][0, 0], data['N'][0, 0], data['N_test'][0, 0]\n",
    "X, Y = data['X'], data['Y']\n",
    "X_test, Y_test = data['X_test'], data['Y_test']"
   ]
  },
  {
   "cell_type": "code",
   "execution_count": 8,
   "id": "3cfec6be",
   "metadata": {},
   "outputs": [
    {
     "name": "stdout",
     "output_type": "stream",
     "text": [
      "optimal MSE: \t0.887\n",
      "test MSE: \t0.826\n"
     ]
    }
   ],
   "source": [
    "P = cp.Variable((n, n), symmetric=True)\n",
    "temp = cp.quad_form(X - Y, P)\n",
    "obj = cp.Minimize(cp.sum_squares(d) - 2 * d @ cp.sqrt(cp.diag(temp)) + cp.trace(temp))\n",
    "prob = cp.Problem(obj, [P >> 0])\n",
    "\n",
    "val = prob.solve() / N\n",
    "print(\"optimal MSE: \\t%.3f\" % val)\n",
    "\n",
    "temp = (X_test - Y_test).T @ P.value @ (X_test - Y_test)\n",
    "test_val = np.sum(np.square(d_test)) - 2 * d_test @ np.sqrt(np.diag(temp)) + np.trace(temp)\n",
    "test_val /= N_test\n",
    "print(\"test MSE: \\t%.3f\" % test_val)"
   ]
  },
  {
   "cell_type": "markdown",
   "id": "35ad8ab6",
   "metadata": {},
   "source": [
    "## Maximum volume rectangle inside a polyhedron\n",
    "Find the max volome of rantangle $R = \\{x \\in \\textbf{R}^n|l \\preceq x \\preceq u\\}$ that enclosed in the hyperhedron $P=\\{x | Ax \\preceq b\\}$, where $u$ and $v$ are variables.\n",
    "\n",
    "### Naive idea\n",
    "$R$ is inside $P$ iff all vertices $\\langle\\{l_i, u_i\\}^n\\rangle \\in P$. The number of constraints is $2^n$, which is inefficient.\n",
    "\n",
    "### Reduce constraints to $n$\n",
    "for every i, we have $\\sup_{l \\preceq x \\preceq u} a_i^Tx \\leq b_i$  \n",
    "The maximum value of lhs is when $A_{ij} \\geq 0$, we select $x_j=u_j$; otherwise we select $x_j=l_j$.  \n",
    "The compact form:\n",
    "$$ \\sum_{j=1}^{n} \\max\\{A_{ij},0\\}u_j - \\max\\{-A_{ij},0\\}l_j \\leq b_i $$\n",
    "So the problems have $n$ constraints that are affine for $u$ and $l$."
   ]
  },
  {
   "cell_type": "code",
   "execution_count": 9,
   "id": "7066c93a",
   "metadata": {},
   "outputs": [
    {
     "name": "stdout",
     "output_type": "stream",
     "text": [
      "Geometric Mean: \t22.276\n"
     ]
    }
   ],
   "source": [
    "data = loadmat(\"max_vol_box_data.mat\")\n",
    "m, n = data['m'][0, 0], data['n'][0, 0]\n",
    "A, b = data['A'], data['b'][:, 0]  # A:mxn, b:mx1\n",
    "\n",
    "u = cp.Variable(n)\n",
    "l = cp.Variable(n)\n",
    "A_pos = np.maximum(A, 0)\n",
    "A_neg = np.maximum(-A, 0)\n",
    "constraints = [A_pos @ u - A_neg @ l <= b, l <= u]\n",
    "obj = cp.Maximize(cp.geo_mean(u - l))\n",
    "\n",
    "prob = cp.Problem(obj, constraints)\n",
    "val = prob.solve()\n",
    "print(\"Geometric Mean: \\t%.3f\" % val)"
   ]
  },
  {
   "cell_type": "markdown",
   "id": "84f41e3e",
   "metadata": {},
   "source": [
    "*Given answer: 1.18*  \n",
    "Why?"
   ]
  }
 ],
 "metadata": {
  "kernelspec": {
   "display_name": "Python 3 (ipykernel)",
   "language": "python",
   "name": "python3"
  },
  "language_info": {
   "codemirror_mode": {
    "name": "ipython",
    "version": 3
   },
   "file_extension": ".py",
   "mimetype": "text/x-python",
   "name": "python",
   "nbconvert_exporter": "python",
   "pygments_lexer": "ipython3",
   "version": "3.11.2"
  }
 },
 "nbformat": 4,
 "nbformat_minor": 5
}
