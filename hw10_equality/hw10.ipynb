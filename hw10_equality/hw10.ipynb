{
 "cells": [
  {
   "cell_type": "markdown",
   "id": "5dd3db0f",
   "metadata": {},
   "source": [
    "# Homework10 Equality constrained minimization"
   ]
  },
  {
   "cell_type": "code",
   "execution_count": 1,
   "id": "23efcdb7",
   "metadata": {},
   "outputs": [],
   "source": [
    "import numpy as np\n",
    "import cvxpy as cp\n",
    "from scipy.io import loadmat"
   ]
  },
  {
   "cell_type": "markdown",
   "id": "1ef3c8a8",
   "metadata": {},
   "source": [
    "## Maximum likelihood prediction of team abilities\n",
    "$n$: number of teams, $m$: number of matches/games  \n",
    "The winning result of $j$ in its match with $k$ is defined as:\n",
    "$$\\textbf{prob}(a_j-a_k+v>0) \\quad v\\sim \\mathcal{N}(0,\\sigma^2)$$\n",
    "$$\\textbf{prob}(a_j-a_k+v>0)=\\textbf{prob}(v>a_k-a_j)= \\textbf{prob}(v<a_j-a_k)=\\varPhi(\\frac{a_j-a_k}{\\sigma})$$\n",
    "\n",
    "The problem is set as find estimation of abilities $a$ to maximize the likelihood of all games given their results.\n",
    "$$\\text{maximize}\\quad \\sum_{i=1}^m log \\varPhi(\\frac{a_j^{(i)}-a_k^{(i)}}{\\sigma})$$\n",
    "$$\\text{subject to}\\quad 0 \\leq a \\leq 1$$\n",
    "concave function with affine inequalities"
   ]
  },
  {
   "cell_type": "code",
   "execution_count": 2,
   "id": "dcb650c1",
   "metadata": {},
   "outputs": [],
   "source": [
    "data = loadmat(\"team_data.mat\")\n",
    "A = data['A']\n",
    "m, n = data['m'][0, 0], data['n'][0, 0]\n",
    "sigma = data['sigma'][0, 0]\n",
    "test = data['test']\n",
    "train = data['train']"
   ]
  },
  {
   "cell_type": "code",
   "execution_count": 3,
   "id": "889b826e",
   "metadata": {},
   "outputs": [
    {
     "name": "stdout",
     "output_type": "stream",
     "text": [
      "[ 1.00000000e+00 -3.07024986e-21  6.78273774e-01  3.68704618e-01\n",
      "  7.90021663e-01  5.81306405e-01  3.87382448e-01  8.54414113e-02\n",
      "  6.70046253e-01  5.77486181e-01]\n"
     ]
    }
   ],
   "source": [
    "a = cp.Variable(n)\n",
    "cst = [0 <= a, a <= 1]\n",
    "mu = A @ a\n",
    "obj = cp.Maximize(cp.sum(cp.log_normcdf(mu / sigma)))\n",
    "prob = cp.Problem(obj, cst)\n",
    "\n",
    "prob.solve()\n",
    "print(a.value)"
   ]
  },
  {
   "cell_type": "code",
   "execution_count": 4,
   "id": "3bd3cbe2",
   "metadata": {},
   "outputs": [
    {
     "name": "stdout",
     "output_type": "stream",
     "text": [
      "Accuracy of ML: \t 0.867\n"
     ]
    }
   ],
   "source": [
    "len = test.shape[0]\n",
    "test_res = np.zeros((len, ))\n",
    "for i in range(len):\n",
    "    j, k = test[i, :2]\n",
    "    res = test[i, 2]\n",
    "    prediction = np.sign(a.value[j - 1] - a.value[k - 1])\n",
    "    test_res[i] = res == prediction\n",
    "print(\"Accuracy of ML: \\t %.3f\" % (np.sum(test_res) / test_res.shape[0]))"
   ]
  },
  {
   "cell_type": "code",
   "execution_count": 5,
   "id": "1069a073",
   "metadata": {},
   "outputs": [
    {
     "name": "stdout",
     "output_type": "stream",
     "text": [
      "Accuracy of simpler method: \t 0.756\n"
     ]
    }
   ],
   "source": [
    "# simpler method\n",
    "test_res = np.zeros((len, ))\n",
    "for i in range(len):\n",
    "    test_res[i] = test[i, 2] == train[i, 2]\n",
    "print(\"Accuracy of simpler method: \\t %.3f\" % (np.sum(test_res) / test_res.shape[0]))"
   ]
  },
  {
   "cell_type": "markdown",
   "id": "57636606",
   "metadata": {},
   "source": [
    "## Allocation of interdiction effort\n"
   ]
  },
  {
   "cell_type": "markdown",
   "id": "08bbdd84",
   "metadata": {},
   "source": [
    "The original problem is mini-max of the probability of paths from node 1 to node n:\n",
    "$$\n",
    "\\text{minimize} \\quad z\\\\\n",
    "\\text{subject to} \\quad \\forall path, \\prod_{j=1,j\\in \\text{ path }}^m p_j \\leq z\n",
    "$$\n",
    "\n",
    "It can be converted to:\n",
    "$$\\text{maximize} \\quad z' = -log(z)\\\\\n",
    "\\text{subject to} \\quad \\forall path, -\\sum_{j=1, j\\in \\text{ path }}^m logp_j = \\sum_{j=1, j\\in \\text{ path }}^m a_jx_j \\geq z'\n",
    "$$\n",
    "Actually, $z'$ is the shortest path in the graph given $x$. We want to maximize the length of shortest path."
   ]
  },
  {
   "cell_type": "markdown",
   "id": "bd5d2666",
   "metadata": {},
   "source": [
    "### LP\n",
    "The arriving probability of node i is denoted as $z_i$. Similarly, $z_i'=-logz_i$.  \n",
    "The shortest path from source to every node is an extension to the shortest path of its one predecessor.\n",
    "\n",
    "Therefore, we have $\\forall j \\in \\{\\text{pred}_i\\}, z_i' \\leq z_j' + a_{ij}x_{ij} \\equiv z_i'-z_j' \\leq a_{ij}x_{ij}$.\n",
    "It is equivalent to $$A^T z' \\leq a\\cdot x$$\n",
    "\n",
    "The problem goes to LP form:\n",
    "$$\\text{maximize} \\quad z_n'\\\\\n",
    "\\text{subject to} \\quad A^T z' \\leq \\text{diag}(a) x $$\n",
    "with other constraints:\n",
    "1. $0 \\leq x \\leq x_{max}$\n",
    "2. $1^T x \\leq B$"
   ]
  },
  {
   "cell_type": "code",
   "execution_count": 6,
   "id": "73a7fced",
   "metadata": {},
   "outputs": [],
   "source": [
    "data = loadmat(\"interdict_data.mat\")\n",
    "a = data['a']\n",
    "A = data['A']\n",
    "edges = data['edges']\n",
    "x_max = data['x_max']\n",
    "B, j, m, n = data['B'][0, 0], data['j'][0, 0], data['m'][0, 0], data['n'][0, 0]"
   ]
  },
  {
   "cell_type": "code",
   "execution_count": 7,
   "id": "3186e794",
   "metadata": {},
   "outputs": [
    {
     "name": "stdout",
     "output_type": "stream",
     "text": [
      "Mini-max: \t 0.043\n"
     ]
    }
   ],
   "source": [
    "x = cp.Variable((m, 1), pos=True)\n",
    "z = cp.Variable((n, 1), pos=True)\n",
    "\n",
    "cst = [A.T @ z <= cp.multiply(a, x), x <= x_max, cp.sum(x) <= B, z[0] == 0]\n",
    "obj = cp.Maximize(z[n - 1])\n",
    "prob = cp.Problem(obj, cst)\n",
    "\n",
    "p = prob.solve()\n",
    "# convert from z' to z\n",
    "p = np.exp(-p)\n",
    "print(\"Mini-max: \\t %.3f\" % p)"
   ]
  },
  {
   "cell_type": "code",
   "execution_count": 8,
   "id": "636573f8",
   "metadata": {},
   "outputs": [
    {
     "name": "stdout",
     "output_type": "stream",
     "text": [
      "Uniform: \t 0.247\n"
     ]
    }
   ],
   "source": [
    "# uniform\n",
    "x = np.ones((m, 1)) * B / m\n",
    "prob = cp.Problem(obj, [A.T @ z <= cp.multiply(a, x), z[0] == 0])\n",
    "p = prob.solve()\n",
    "p = np.exp(-p)\n",
    "print(\"Uniform: \\t %.3f\" % p)"
   ]
  }
 ],
 "metadata": {
  "kernelspec": {
   "display_name": "Python 3 (ipykernel)",
   "language": "python",
   "name": "python3"
  },
  "language_info": {
   "codemirror_mode": {
    "name": "ipython",
    "version": 3
   },
   "file_extension": ".py",
   "mimetype": "text/x-python",
   "name": "python",
   "nbconvert_exporter": "python",
   "pygments_lexer": "ipython3",
   "version": "3.11.2"
  }
 },
 "nbformat": 4,
 "nbformat_minor": 5
}
