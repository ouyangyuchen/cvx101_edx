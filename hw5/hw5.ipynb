{
 "cells": [
  {
   "cell_type": "markdown",
   "id": "196bcb4e",
   "metadata": {},
   "source": [
    "# Homework5 Approximation and Fitting"
   ]
  },
  {
   "cell_type": "code",
   "execution_count": 2,
   "id": "69bf0244",
   "metadata": {},
   "outputs": [],
   "source": [
    "import cvxpy as cp\n",
    "import numpy as np\n",
    "from numpy.linalg import norm\n",
    "from scipy.io import loadmat"
   ]
  },
  {
   "cell_type": "markdown",
   "id": "602af7d6",
   "metadata": {},
   "source": [
    "## Fitting with uncensored data\n",
    "The original problem is :  \n",
    "$$\\text{Minimize} \\quad J=\\sum_{k=1}^{K}(y^{(k)}-c^Tx^{(k)})^2$$\n",
    "$y^{(1)},\\ldots,y^{(M)}$ are known as certain values, but we only get the lower bound of $y^{(M+1)},\\ldots,y^{(K)}$, which is $D$.  \n",
    "\n",
    "The object is to find proper $c$ and $y^{(M+1)},\\ldots,y^{(K)}$ that minimize $J$."
   ]
  },
  {
   "cell_type": "code",
   "execution_count": 3,
   "id": "c171a0f4",
   "metadata": {},
   "outputs": [],
   "source": [
    "# load data from 'cens_fit_data_norng.m'\n",
    "data = loadmat(\"data.mat\")\n",
    "\n",
    "n, M, K = data['n'][0][0], data['M'][0][0], data['K'][0][0] \n",
    "D = data['D'][0][0]\n",
    "X = data['X']\n",
    "c_true = data['c_true']\n",
    "y = data['y']"
   ]
  },
  {
   "cell_type": "markdown",
   "id": "ed517ca2",
   "metadata": {},
   "source": [
    "### Take censored data into fitting\n",
    "$$\\text{Minimize} \\quad \\|y-c^TX_{[1:M]}\\|_2^2 + \\|y_{cen}-c^TX_{[M:K]}\\|_2^2$$\n",
    "$$\\text{Subject to} \\quad y_{cen} \\succeq D$$"
   ]
  },
  {
   "cell_type": "code",
   "execution_count": 4,
   "id": "6ada7b46",
   "metadata": {},
   "outputs": [
    {
     "name": "stdout",
     "output_type": "stream",
     "text": [
      "Fitting with censored data, the residual is 0.175\n"
     ]
    }
   ],
   "source": [
    "c = cp.Variable((n, 1))\n",
    "y_cen = cp.Variable((K-M, 1))\n",
    "obj = cp.Minimize(cp.sum_squares(y.T[0, :] - (c.T @ X)[0, :M]) + \n",
    "                  cp.sum_squares(y_cen.T[0, :] - (c.T @ X)[0, M:]))\n",
    "cst = [y_cen >= D]\n",
    "prob = cp.Problem(obj, cst)\n",
    "prob.solve()\n",
    "\n",
    "residual = norm(c_true - c.value, 2) / norm(c_true, 2)\n",
    "print(\"Fitting with censored data, the residual is %.3f\" % residual)"
   ]
  },
  {
   "cell_type": "markdown",
   "id": "8524d475",
   "metadata": {},
   "source": [
    "### Ignore the censored data\n",
    "Only use the uncensored data samples: $y^{(1)},\\ldots,y^{(M)}$.  \n",
    "$$\\text{Minimize} \\quad \\|y-c^TX_{[1:M]}\\|_2^2 $$"
   ]
  },
  {
   "cell_type": "code",
   "execution_count": 5,
   "id": "85e2adca",
   "metadata": {},
   "outputs": [
    {
     "name": "stdout",
     "output_type": "stream",
     "text": [
      "Ignore the censored data, the residual is 0.366\n"
     ]
    }
   ],
   "source": [
    "# ignoring the censored data samples\n",
    "c_ls = cp.Variable((n, 1))\n",
    "obj_ls = cp.Minimize(cp.norm2(y.T[0, :] - (c_ls.T @ X)[0, :M]))\n",
    "prob_ls = cp.Problem(obj_ls, None)\n",
    "\n",
    "prob_ls.solve()\n",
    "residual_ls = norm(c_ls.value - c_true, ord=2) / norm(c_true, ord=2)\n",
    "print(\"Ignore the censored data, the residual is %.3f\" % residual_ls)"
   ]
  },
  {
   "cell_type": "markdown",
   "id": "cb635e2d",
   "metadata": {},
   "source": [
    "### Alternate modeling\n",
    "Instead of explicitly minimizing the censored prediction error $\\|y_{cen}-D\\|_2^2$, we can simply convert the object to a constraint:  \n",
    "\n",
    "$$\\text{Minimize} \\quad \\|y-c^TX_{[1:M]}\\|_2$$\n",
    "$$\\text{Subject to} \\quad c^TX_{[M:K]} \\succeq D$$"
   ]
  },
  {
   "cell_type": "code",
   "execution_count": 6,
   "id": "5a022d1f",
   "metadata": {},
   "outputs": [
    {
     "name": "stdout",
     "output_type": "stream",
     "text": [
      "Using the alternate modeling method, the residual is 0.168\n"
     ]
    }
   ],
   "source": [
    "c = cp.Variable((n, 1))\n",
    "cst = [(c.T @ X)[0, M:] >= D]\n",
    "obj = cp.Minimize(cp.norm2(y.T[0, :] - (c.T @ X)[0, :M]))\n",
    "\n",
    "prob = cp.Problem(obj, cst)\n",
    "prob.solve()\n",
    "\n",
    "residual = norm(c.value - c_true, ord=2) / norm(c_true, ord=2)\n",
    "print(\"Using the alternate modeling method, the residual is %.3f\" % residual)"
   ]
  },
  {
   "cell_type": "markdown",
   "id": "fef7c048",
   "metadata": {},
   "source": [
    "## Minimax rational fit to the exponential\n",
    "Find a function:\n",
    "$$f(t)=\\frac{a_0 + a_1t + a_2t^2}{1 + b_1t + b_2t^2}$$\n",
    "that minimize $max_{i=1,2,\\ldots,k}|f(t_i)-e^{t_i}|$  \n",
    "The generalized linear fractional function is quasiconvex, therefore we can use the bisection method to optimize it.\n",
    "\n",
    "We can convert the quasiconvex program to convex program by giving a parameter $\\gamma$.\n",
    "$$\\text{Minimize} \\quad \\gamma$$\n",
    "$$\\text{Subject to} \\quad max_{i=1,\\ldots,k}|\\frac{t^Ta}{t^Tb}-y_i| \\leq \\gamma, t^Tb>0$$\n",
    "while $t$ denote as $[1, t_i, t_i^2]$  \n",
    "At last, the constraints are affine for $a$, $b$:  \n",
    "(for all i)\n",
    "1. $t^Tb \\geq 0$\n",
    "2. $|t^Ta - y_it^Tb| \\leq \\gamma t^Tb$"
   ]
  },
  {
   "cell_type": "code",
   "execution_count": 7,
   "id": "08a35b9b",
   "metadata": {},
   "outputs": [],
   "source": [
    "# generate data points\n",
    "k = 201\n",
    "t = np.linspace(-3, 3 + 0.03, k)\n",
    "T = np.concatenate((np.ones((k, 1)), np.reshape(t, (k, 1)), np.reshape(t ** 2, (k, 1))), axis=1)\n",
    "y = np.exp(t)"
   ]
  },
  {
   "cell_type": "code",
   "execution_count": 16,
   "id": "c87627bf",
   "metadata": {},
   "outputs": [],
   "source": [
    "# construct the convex program\n",
    "a = cp.Variable(3)\n",
    "b = cp.hstack((1, cp.Variable(2)))\n",
    "gamma = cp.Parameter(nonneg=True)\n",
    "\n",
    "cst = [T @ b >= 0, cp.abs(T @ a - cp.multiply(y, T @ b)) <= gamma * T @ b]\n",
    "obj = cp.Minimize(0)\n",
    "prob = cp.Problem(obj, cst)"
   ]
  },
  {
   "cell_type": "code",
   "execution_count": 21,
   "id": "8fbc91d8",
   "metadata": {},
   "outputs": [],
   "source": [
    "# recursive bisection, the lower_bound of gamma -> infeasible, the upper_bound of gamma -> optimal\n",
    "def bisection(lower_bound:float, upper_bound:float)->float:\n",
    "    assert upper_bound >= lower_bound\n",
    "    global gamma\n",
    "    gamma.value = (lower_bound + upper_bound) / 2\n",
    "    if (upper_bound - lower_bound) < 0.001:\n",
    "        return gamma.value\n",
    "\n",
    "    prob.solve()\n",
    "\n",
    "    if prob.status == 'infeasible':\n",
    "        return bisection(gamma.value, upper_bound)\n",
    "    else:\n",
    "        return bisection(lower_bound, gamma.value)"
   ]
  },
  {
   "cell_type": "code",
   "execution_count": 22,
   "id": "074ca6d5",
   "metadata": {},
   "outputs": [
    {
     "name": "stdout",
     "output_type": "stream",
     "text": [
      "the optimal value is 0.0235\n",
      "a0=1.0095, a1=0.6158, a2=0.1149\n",
      "b1=-0.4126, b2=0.0480\n"
     ]
    }
   ],
   "source": [
    "value = bisection(lower_bound=0, upper_bound=10)\n",
    "print(\"the optimal value is %.4f\" % value)\n",
    "print(\"a0=%.4f, a1=%.4f, a2=%.4f\" % (a[0].value, a[1].value, a[2].value))\n",
    "print(\"b1=%.4f, b2=%.4f\" % (b[1].value, b[2].value))"
   ]
  },
  {
   "cell_type": "markdown",
   "id": "23aba783",
   "metadata": {},
   "source": [
    "### plot the exponential curve and linear fractional function"
   ]
  },
  {
   "cell_type": "code",
   "execution_count": 23,
   "id": "956ea393",
   "metadata": {},
   "outputs": [],
   "source": [
    "from matplotlib import pyplot as plt"
   ]
  },
  {
   "cell_type": "code",
   "execution_count": 27,
   "id": "e45fde55",
   "metadata": {},
   "outputs": [
    {
     "data": {
      "image/png": "[encoded data removed]",
      "text/plain": [
       "<Figure size 640x480 with 1 Axes>"
      ]
     },
     "metadata": {},
     "output_type": "display_data"
    }
   ],
   "source": [
    "linfrac = a[0].value + a[1].value * t + a[2].value * t**2\n",
    "linfrac = np.divide(linfrac, 1 + b[1].value * t + b[2].value * t**2)\n",
    "plt.plot(t, y, t, linfrac, linewidth=0.4)\n",
    "plt.legend(['exp', 'linear fraction'])\n",
    "plt.show()"
   ]
  }
 ],
 "metadata": {
  "kernelspec": {
   "display_name": "Python 3 (ipykernel)",
   "language": "python",
   "name": "python3"
  },
  "language_info": {
   "codemirror_mode": {
    "name": "ipython",
    "version": 3
   },
   "file_extension": ".py",
   "mimetype": "text/x-python",
   "name": "python",
   "nbconvert_exporter": "python",
   "pygments_lexer": "ipython3",
   "version": "3.11.2"
  }
 },
 "nbformat": 4,
 "nbformat_minor": 5
}
