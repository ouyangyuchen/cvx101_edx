{
 "cells": [
  {
   "cell_type": "markdown",
   "id": "3fa54f2c",
   "metadata": {},
   "source": [
    "# Unconstrained minimization\n",
    "*(only the first question)*"
   ]
  },
  {
   "cell_type": "code",
   "execution_count": 1,
   "id": "6c01526b",
   "metadata": {},
   "outputs": [],
   "source": [
    "import numpy as np\n",
    "import matplotlib.pyplot as plt\n",
    "import cvxpy as cp"
   ]
  },
  {
   "cell_type": "markdown",
   "id": "a01fc65a",
   "metadata": {},
   "source": [
    "## Gradient and Newton method\n",
    "$$\\text{minimize } f(x)=-\\sum_{i=1}^{m}log(1-a_i^Tx)-\\sum_{i=1}^nlog(1-x_i^2)$$\n",
    "Implicit constraints:\n",
    "1. $\\forall i=1,2,\\ldots,m, \\quad a_i^Tx < 1$\n",
    "2. $\\forall j=1,2,\\ldots,n, \\quad |x_j| < 1$\n",
    "\n",
    "Define $y=1-Ax$, $z=1-x^2$ (element-wise):\n",
    "$$\\nabla f(x)=A^T \\frac{1}{y} + \\frac{2x}{z}$$\n",
    "$$\\nabla^2 f(x)= A^T \\text{diag}(\\frac{1}{y^2}) A + \\text{diag}[\\frac{2(1+x^2)}{(1-x^2)^2}]$$"
   ]
  },
  {
   "cell_type": "code",
   "execution_count": 2,
   "id": "bac837e3",
   "metadata": {},
   "outputs": [],
   "source": [
    "n = 100\n",
    "m = 200\n",
    "A = np.random.randn(m, n)\n",
    "\n",
    "def in_domain(x: np.ndarray):\n",
    "    y = 1 - A @ x\n",
    "    z = 1 - np.square(x)\n",
    "    return np.all(y > 0) and np.all(z > 0)\n",
    "\n",
    "def f(x: np.ndarray):\n",
    "    if not in_domain(x):\n",
    "        return None\n",
    "    y = 1 - A @ x\n",
    "    z = 1 - x ** 2\n",
    "    return -np.log(np.prod(y)) - np.log(np.prod(z))\n",
    "\n",
    "def grad_f(x: np.ndarray):\n",
    "    if not in_domain(x):\n",
    "        return None\n",
    "    y = 1 - A @ x\n",
    "    z = 1 - x ** 2\n",
    "    return A.T @ (1 / y) + x * (2 / z)\n",
    "\n",
    "def hessian_f(x: np.ndarray):\n",
    "    if not in_domain(x):\n",
    "        return None\n",
    "    y = 1 - A @ x\n",
    "    lam = 1 / y ** 2\n",
    "    dg = 2 * (1 + x ** 2) / (1 - x ** 2) ** 2\n",
    "    return A.T @ np.diag(lam.reshape((m,))) @ A + np.diag(dg.reshape(n,))"
   ]
  },
  {
   "cell_type": "markdown",
   "id": "f82a624c",
   "metadata": {},
   "source": [
    "### Gradient descent\n",
    "repeat:\n",
    "1. $\\Delta x=-\\nabla f(x)$\n",
    "2. line search for $t(\\alpha, \\beta)$\n",
    "3. $x := x + t\\Delta x$  \n",
    "until $\\|\\nabla f(x)\\|_2 \\leq \\epsilon$"
   ]
  },
  {
   "cell_type": "code",
   "execution_count": 3,
   "id": "d2c1391c",
   "metadata": {},
   "outputs": [],
   "source": [
    "def gradient_descent(x0: np.ndarray, alpha: float, beta: float, eps: float):\n",
    "    assert 0 < alpha < 0.5 and 0 < beta < 1\n",
    "    assert in_domain(x0)\n",
    "    x = x0\n",
    "    cnt = 0\n",
    "    loss = []\n",
    "\n",
    "    while True:\n",
    "#         print(\"step = %d,\\t f(x) = %.4f\" % (cnt, f(x)))\n",
    "        loss.append(f(x))\n",
    "        cnt += 1\n",
    "        dx = - grad_f(x)\n",
    "        # line search\n",
    "        t = 1\n",
    "        while True:\n",
    "            x_next = x + t * dx\n",
    "            if in_domain(x_next) and f(x_next) < f(x) - alpha * t * np.sum(dx ** 2):\n",
    "                break\n",
    "            t = beta * t\n",
    "        x = x + t * dx\n",
    "        if np.linalg.norm(dx, 2) <= eps:\n",
    "            break\n",
    "    return x, np.array(loss)"
   ]
  },
  {
   "cell_type": "code",
   "execution_count": 8,
   "id": "27a86985",
   "metadata": {},
   "outputs": [
    {
     "data": {
      "image/png": "[encoded data removed]",
      "text/plain": [
       "<Figure size 640x480 with 1 Axes>"
      ]
     },
     "metadata": {},
     "output_type": "display_data"
    },
    {
     "name": "stdout",
     "output_type": "stream",
     "text": [
      "optimal value using gradient: \t -109.7509\n"
     ]
    }
   ],
   "source": [
    "alpha = 0.25\n",
    "beta = 0.5\n",
    "eps = 1e-4\n",
    "x_star, loss = gradient_descent(x0=np.zeros((n, 1)), alpha=alpha, beta=beta, eps=eps)\n",
    "\n",
    "plt.plot(loss)\n",
    "plt.ylabel(\"f(x)\")\n",
    "plt.xlabel(\"iteration number\")\n",
    "plt.show()\n",
    "plt.close()\n",
    "print(\"optimal value using gradient: \\t %.4f\" % f(x_star))"
   ]
  },
  {
   "cell_type": "markdown",
   "id": "32ed966f",
   "metadata": {},
   "source": [
    "### Newton method\n",
    "repeat:\n",
    "1. $\\Delta x=-\\nabla^2 f(x)^{-1} \\nabla f(x)$, $\\lambda^2 = \\nabla f(x)^T \\nabla^2 f(x)^{-1} \\nabla f(x)$\n",
    "2. line search for $t(\\alpha, \\beta)$\n",
    "3. $x = x + t\\Delta x$  \n",
    "until $\\lambda^2 \\leq 2\\epsilon$"
   ]
  },
  {
   "cell_type": "code",
   "execution_count": 9,
   "id": "64ddb3c5",
   "metadata": {},
   "outputs": [],
   "source": [
    "def newton(x0: np.ndarray, alpha: float, beta: float, eps: float):\n",
    "    cnt, x = 0, x0\n",
    "    loss = []\n",
    "    while True:\n",
    "#         print(\"f(x) = %.4f\" % f(x))\n",
    "        grad = grad_f(x)\n",
    "        hessian = np.linalg.inv(hessian_f(x))\n",
    "        dx = - hessian @ grad\n",
    "        l2 = grad.T @ hessian @ grad\n",
    "        loss.append(l2.item())\n",
    "        if l2 <= 2 * eps:\n",
    "            break\n",
    "\n",
    "        t = 1\n",
    "        while True:\n",
    "            x_next = x + t * dx\n",
    "            if in_domain(x_next) and f(x_next) < f(x) - alpha * t * np.sum(dx ** 2):\n",
    "                break\n",
    "            t = beta * t\n",
    "        x = x + t * dx\n",
    "    return x, loss"
   ]
  },
  {
   "cell_type": "code",
   "execution_count": 10,
   "id": "4c3b99e9",
   "metadata": {},
   "outputs": [
    {
     "data": {
      "image/png": "[encoded data removed]",
      "text/plain": [
       "<Figure size 640x480 with 1 Axes>"
      ]
     },
     "metadata": {},
     "output_type": "display_data"
    },
    {
     "name": "stdout",
     "output_type": "stream",
     "text": [
      "optimal value using newton method: \t -109.7508\n"
     ]
    }
   ],
   "source": [
    "alpha = 0.25\n",
    "beta = 0.5\n",
    "eps = 1e-4\n",
    "x_star, loss = newton(x0=np.zeros((n, 1)), alpha=alpha, beta=beta, eps=eps)\n",
    "\n",
    "plt.plot(loss)\n",
    "plt.ylabel(\"lambda^2\")\n",
    "plt.xlabel(\"iteration number\")\n",
    "plt.show()\n",
    "plt.close()\n",
    "print(\"optimal value using newton method: \\t %.4f\" % f(x_star))"
   ]
  }
 ],
 "metadata": {
  "kernelspec": {
   "display_name": "Python 3 (ipykernel)",
   "language": "python",
   "name": "python3"
  },
  "language_info": {
   "codemirror_mode": {
    "name": "ipython",
    "version": 3
   },
   "file_extension": ".py",
   "mimetype": "text/x-python",
   "name": "python",
   "nbconvert_exporter": "python",
   "pygments_lexer": "ipython3",
   "version": "3.11.2"
  }
 },
 "nbformat": 4,
 "nbformat_minor": 5
}
