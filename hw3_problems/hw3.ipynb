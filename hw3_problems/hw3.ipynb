{
 "cells": [
  {
   "cell_type": "markdown",
   "id": "96b07409",
   "metadata": {},
   "source": [
    "# Homework3 Convex Optimization Problems"
   ]
  },
  {
   "cell_type": "code",
   "execution_count": 1,
   "id": "34e78467",
   "metadata": {},
   "outputs": [],
   "source": [
    "import numpy as np\n",
    "import cvxpy as cp\n",
    "import matplotlib.pyplot as plt"
   ]
  },
  {
   "cell_type": "markdown",
   "id": "1dd7cbb5",
   "metadata": {},
   "source": [
    "## \"Hello World\" in CVX\n",
    "minimize $f_0(x_1, x_2)$  \n",
    "subject to $2x_1 + x_2 \\geq 1$, $x_1 + 3x_2 \\geq 1$, $x_1 \\geq 0$, $x_2 \\geq 0$"
   ]
  },
  {
   "cell_type": "markdown",
   "id": "0d42dfa8",
   "metadata": {},
   "source": [
    "when $f_0(x_1, x_2)=x_1 + x_2$"
   ]
  },
  {
   "cell_type": "code",
   "execution_count": 2,
   "id": "f75ef22e",
   "metadata": {},
   "outputs": [
    {
     "name": "stdout",
     "output_type": "stream",
     "text": [
      "optimal value is 0.6000\n",
      "x is  [0.4 0.2]\n"
     ]
    }
   ],
   "source": [
    "x = cp.Variable(2)\n",
    "obj = cp.Minimize(x[0] + x[1])\n",
    "constraints = [x >= 0, 2 * x[0] + x[1] >= 1, x[0] + 3 * x[1] >= 1]\n",
    "\n",
    "prob = cp.Problem(objective=obj, constraints=constraints)\n",
    "prob.solve()\n",
    "\n",
    "print(\"optimal value is %.4f\" % prob.value)\n",
    "print(\"x is \", x.value)"
   ]
  },
  {
   "cell_type": "markdown",
   "id": "55149b71",
   "metadata": {},
   "source": [
    "when $f_0(x_1, x_2) = x_1^2 + 9x_2^2$"
   ]
  },
  {
   "cell_type": "code",
   "execution_count": 3,
   "id": "2bc645d5",
   "metadata": {},
   "outputs": [
    {
     "name": "stdout",
     "output_type": "stream",
     "text": [
      "optimal value is 0.5000\n",
      "x is  [0.5        0.16666667]\n"
     ]
    }
   ],
   "source": [
    "obj = cp.Minimize(x[0] ** 2 + 9 * x[1] ** 2)\n",
    "prob = cp.Problem(objective = obj, constraints = constraints)\n",
    "prob.solve()\n",
    "\n",
    "print(\"optimal value is %.4f\" % prob.value)\n",
    "print(\"x is \", x.value)"
   ]
  },
  {
   "cell_type": "markdown",
   "id": "66f54232",
   "metadata": {},
   "source": [
    "## Heuristic suboptimal solution for Boolean LP"
   ]
  },
  {
   "cell_type": "markdown",
   "id": "44815c78",
   "metadata": {},
   "source": [
    "### relaxed LP\n",
    "minimize $c^Tx$  \n",
    "subject to $Ax \\leq b$, $0 \\leq x \\leq 1$"
   ]
  },
  {
   "cell_type": "code",
   "execution_count": 4,
   "id": "9dd79310",
   "metadata": {},
   "outputs": [
    {
     "name": "stdout",
     "output_type": "stream",
     "text": [
      "optimal value:  -35.185950030524886\n"
     ]
    }
   ],
   "source": [
    "n = 100\n",
    "m = 300\n",
    "A = np.random.random(size=(m, n))\n",
    "b = A @ np.ones(shape=(n, )) / 2\n",
    "c = -np.random.random(size=(n, 1))\n",
    "\n",
    "x_rlx = cp.Variable(n)\n",
    "obj = cp.Minimize(c.T @ x_rlx)\n",
    "cst = [0 <= x_rlx, x_rlx <= 1, A @ x_rlx <= b]\n",
    "\n",
    "prob = cp.Problem(objective=obj, constraints=cst)\n",
    "prob.solve()\n",
    "\n",
    "print(\"optimal value: \", prob.value)"
   ]
  },
  {
   "cell_type": "code",
   "execution_count": 5,
   "id": "c923e0aa",
   "metadata": {},
   "outputs": [
    {
     "name": "stdout",
     "output_type": "stream",
     "text": [
      "optimal value:  [-33.84484691]\n",
      "upper bound - lower bound =  [1.34110312]\n"
     ]
    }
   ],
   "source": [
    "opt_val = 100\n",
    "t_vals = np.linspace(0, 1, 100)\n",
    "vals, thres = [], []\n",
    "for t in t_vals:\n",
    "    x = (x_rlx.value >= t).astype(int)\n",
    "    if np.max(A @ x - b) <= 0:\n",
    "        thres.append(t)\n",
    "        curr_val = c.T @ x\n",
    "        opt_val = min(curr_val, opt_val)\n",
    "        vals.append(curr_val)\n",
    "print(\"optimal value: \", opt_val)\n",
    "print(\"upper bound - lower bound = \", opt_val - prob.value)"
   ]
  },
  {
   "cell_type": "code",
   "execution_count": 6,
   "id": "5ef94349",
   "metadata": {},
   "outputs": [
    {
     "data": {
      "image/png": "[encoded data removed]",
      "text/plain": [
       "<Figure size 640x480 with 1 Axes>"
      ]
     },
     "metadata": {},
     "output_type": "display_data"
    }
   ],
   "source": [
    "plt.plot(thres, vals, )\n",
    "plt.xlabel('threshold')\n",
    "plt.ylabel('c.T @ x')\n",
    "plt.show()\n",
    "plt.close()"
   ]
  },
  {
   "cell_type": "markdown",
   "id": "d5798a1e",
   "metadata": {},
   "source": [
    "## Simple portfolio optimization"
   ]
  },
  {
   "cell_type": "code",
   "execution_count": 7,
   "id": "c8ad3f4b",
   "metadata": {},
   "outputs": [],
   "source": [
    "n = 20\n",
    "pbar = np.ones(shape=(n,)) * .03 + \\\n",
    "        .12 * np.concatenate((np.random.random((n - 1,)), np.array([0])), axis=0)\n",
    "S = np.random.randn(n, n)\n",
    "S = S.T @ S\n",
    "S = S / max(abs(np.diag(S))) * .2\n",
    "\n",
    "S[:, n-1] = 0\n",
    "S[n-1, :] = 0\n",
    "\n",
    "x_unif = np.ones((n,)) / n"
   ]
  },
  {
   "cell_type": "code",
   "execution_count": 8,
   "id": "488d8e27",
   "metadata": {},
   "outputs": [
    {
     "name": "stdout",
     "output_type": "stream",
     "text": [
      "expected return is  0.08665969137904908\n",
      "risk on uniform portfolio is  0.0035096648492225786\n"
     ]
    }
   ],
   "source": [
    "expected = pbar.T @ x_unif\n",
    "print(\"expected return is \", expected)\n",
    "print(\"risk on uniform portfolio is \", x_unif.T @ S @ x_unif)"
   ]
  },
  {
   "cell_type": "markdown",
   "id": "a4f50ac5",
   "metadata": {},
   "source": [
    "the risk of an optimal portfolio with no (additional) constraints"
   ]
  },
  {
   "cell_type": "code",
   "execution_count": 9,
   "id": "1e4bc404",
   "metadata": {},
   "outputs": [
    {
     "name": "stdout",
     "output_type": "stream",
     "text": [
      "0.0007360049148923248\n"
     ]
    }
   ],
   "source": [
    "x = cp.Variable(n)\n",
    "cst1 = [cp.sum(x) == 1, pbar.T @ x == expected]\n",
    "obj = cp.Minimize(cp.quad_form(x, S))\n",
    "prob1 = cp.Problem(obj, cst1)\n",
    "prob1.solve()\n",
    "\n",
    "print(prob1.value)"
   ]
  },
  {
   "cell_type": "markdown",
   "id": "d5a98488",
   "metadata": {},
   "source": [
    "the risk of a **long-only** portfolio $x \\geq 0$"
   ]
  },
  {
   "cell_type": "code",
   "execution_count": 10,
   "id": "7f105c92",
   "metadata": {},
   "outputs": [
    {
     "name": "stdout",
     "output_type": "stream",
     "text": [
      "0.0013220473425327808\n"
     ]
    }
   ],
   "source": [
    "cst2 = cst1 + [x >= 0]\n",
    "prob2 = cp.Problem(obj, cst2)\n",
    "prob2.solve()\n",
    "\n",
    "print(prob2.value)"
   ]
  },
  {
   "cell_type": "markdown",
   "id": "a24d0e4b",
   "metadata": {},
   "source": [
    "the risk of a portfolio with a **limit on total short position**  \n",
    "$1^T(x_-) \\leq 0.5$, $(x_-)_i = max\\{-x_i, 0\\}$"
   ]
  },
  {
   "cell_type": "code",
   "execution_count": 11,
   "id": "7daa96f6",
   "metadata": {},
   "outputs": [
    {
     "name": "stdout",
     "output_type": "stream",
     "text": [
      "optimal\n",
      "0.0008041998969535468\n"
     ]
    }
   ],
   "source": [
    "cst3 = cst1 + [cp.sum(cp.pos(-x)) <= 0.5]\n",
    "prob3 = cp.Problem(obj, cst3)\n",
    "prob3.solve()\n",
    "\n",
    "print(prob3.status)\n",
    "print(prob3.value)"
   ]
  },
  {
   "cell_type": "markdown",
   "id": "b73320fa",
   "metadata": {},
   "source": [
    "Plot the optimal trade-off curve for the **long-only** portfolio and for **total short-position limited to 0.5**"
   ]
  },
  {
   "cell_type": "code",
   "execution_count": 12,
   "id": "e2ea95db",
   "metadata": {
    "scrolled": true
   },
   "outputs": [],
   "source": [
    "x = cp.Variable(n)\n",
    "gamma_vals = np.logspace(-4, 6, 200)\n",
    "gamma = cp.Parameter(nonneg=True)\n",
    "obj = cp.Maximize(pbar.T @ x - gamma * cp.quad_form(x, S))\n",
    "prob1 = cp.Problem(obj, [cp.sum(x) == 1, x >= 0])\n",
    "prob2 = cp.Problem(obj, [cp.sum(x) == 1, cp.sum(cp.pos(-x)) <= 0.5])\n",
    "\n",
    "dev1, mean1 = [], []\n",
    "dev2, mean2 = [], []\n",
    "for g in gamma_vals:\n",
    "    gamma.value = g\n",
    "    # long-only\n",
    "    prob1.solve()\n",
    "    dev1.append(x.value.T @ S @ x.value)\n",
    "    mean1.append(pbar.T @ x.value)\n",
    "    # short-position limit\n",
    "    prob2.solve()\n",
    "    dev2.append(x.value.T @ S @ x.value)\n",
    "    mean2.append(pbar.T @ x.value)"
   ]
  },
  {
   "cell_type": "code",
   "execution_count": 13,
   "id": "19f36c2e",
   "metadata": {},
   "outputs": [
    {
     "data": {
      "image/png": "[encoded data removed]",
      "text/plain": [
       "<Figure size 640x480 with 1 Axes>"
      ]
     },
     "metadata": {},
     "output_type": "display_data"
    }
   ],
   "source": [
    "plt.plot(dev1, mean1, dev2, mean2)\n",
    "plt.xlabel('standard deviation')\n",
    "plt.ylabel('mean return')\n",
    "plt.legend(['long-only', 'short-position limited'])\n",
    "plt.show()"
   ]
  }
 ],
 "metadata": {
  "kernelspec": {
   "display_name": "Python 3 (ipykernel)",
   "language": "python",
   "name": "python3"
  },
  "language_info": {
   "codemirror_mode": {
    "name": "ipython",
    "version": 3
   },
   "file_extension": ".py",
   "mimetype": "text/x-python",
   "name": "python",
   "nbconvert_exporter": "python",
   "pygments_lexer": "ipython3",
   "version": "3.11.2"
  }
 },
 "nbformat": 4,
 "nbformat_minor": 5
}
